{
  "cells": [
    {
      "metadata": {
        "trusted": true
      },
      "cell_type": "code",
      "source": "from sklearn.feature_extraction.text import TfidfVectorizer\nfrom sklearn.metrics.pairwise import cosine_similarity, linear_kernel\nfrom gensim import corpora, models, similarities\nimport pickle\nimport pandas as pd\n!pip install wordcloud\nfrom wordcloud import WordCloud, STOPWORDS\nimport matplotlib.pyplot as plt\nimport numpy as np\nfrom PIL import Image\nimport urllib\nimport requests",
      "execution_count": 1,
      "outputs": [
        {
          "output_type": "stream",
          "text": "Collecting wordcloud\n\u001b[?25l  Downloading https://files.pythonhosted.org/packages/7b/f3/1017ea53d88cf39cc06139be4e021d99e3972d6cf635c8598c4cbecbbed0/wordcloud-1.6.0-cp36-cp36m-manylinux1_x86_64.whl (361kB)\n\u001b[K     |████████████████████████████████| 368kB 2.4MB/s eta 0:00:01\n\u001b[?25hRequirement already satisfied: numpy>=1.6.1 in /home/nbuser/anaconda3_501/lib/python3.6/site-packages (from wordcloud) (1.16.2)\nRequirement already satisfied: matplotlib in /home/nbuser/anaconda3_501/lib/python3.6/site-packages (from wordcloud) (3.0.0)\nRequirement already satisfied: pillow in /home/nbuser/anaconda3_501/lib/python3.6/site-packages (from wordcloud) (5.3.0)\nRequirement already satisfied: cycler>=0.10 in /home/nbuser/anaconda3_501/lib/python3.6/site-packages (from matplotlib->wordcloud) (0.10.0)\nRequirement already satisfied: kiwisolver>=1.0.1 in /home/nbuser/anaconda3_501/lib/python3.6/site-packages (from matplotlib->wordcloud) (1.0.1)\nRequirement already satisfied: pyparsing!=2.0.4,!=2.1.2,!=2.1.6,>=2.0.1 in /home/nbuser/anaconda3_501/lib/python3.6/site-packages (from matplotlib->wordcloud) (2.3.0)\nRequirement already satisfied: python-dateutil>=2.1 in /home/nbuser/anaconda3_501/lib/python3.6/site-packages (from matplotlib->wordcloud) (2.8.1)\nRequirement already satisfied: six in /home/nbuser/anaconda3_501/lib/python3.6/site-packages (from cycler>=0.10->matplotlib->wordcloud) (1.11.0)\nRequirement already satisfied: setuptools in /home/nbuser/anaconda3_501/lib/python3.6/site-packages (from kiwisolver>=1.0.1->matplotlib->wordcloud) (41.6.0)\nInstalling collected packages: wordcloud\nSuccessfully installed wordcloud-1.6.0\n\u001b[33mWARNING: You are using pip version 19.3.1; however, version 20.1 is available.\nYou should consider upgrading via the 'pip install --upgrade pip' command.\u001b[0m\n",
          "name": "stdout"
        }
      ]
    },
    {
      "metadata": {
        "trusted": true
      },
      "cell_type": "code",
      "source": "df = pickle.load(open('df_preprocessed.pickle', 'rb'))\ndf.reset_index(inplace=True)",
      "execution_count": 2,
      "outputs": []
    },
    {
      "metadata": {
        "trusted": true
      },
      "cell_type": "code",
      "source": "df_unprocessed = pickle.load(open('df', 'rb'))",
      "execution_count": 3,
      "outputs": []
    },
    {
      "metadata": {
        "trusted": true
      },
      "cell_type": "code",
      "source": "df['Unprocessed Title'] = df_unprocessed['Title'].astype(str)",
      "execution_count": 4,
      "outputs": []
    },
    {
      "metadata": {
        "trusted": true
      },
      "cell_type": "code",
      "source": "df.head()",
      "execution_count": 5,
      "outputs": [
        {
          "output_type": "execute_result",
          "execution_count": 5,
          "data": {
            "text/html": "<div>\n<style scoped>\n    .dataframe tbody tr th:only-of-type {\n        vertical-align: middle;\n    }\n\n    .dataframe tbody tr th {\n        vertical-align: top;\n    }\n\n    .dataframe thead th {\n        text-align: right;\n    }\n</style>\n<table border=\"1\" class=\"dataframe\">\n  <thead>\n    <tr style=\"text-align: right;\">\n      <th></th>\n      <th>Date</th>\n      <th>Title</th>\n      <th>Body</th>\n      <th>Unprocessed Title</th>\n    </tr>\n  </thead>\n  <tbody>\n    <tr>\n      <th>0</th>\n      <td>2020-04-16</td>\n      <td>[sipping, coronavirus, domain, firehose]</td>\n      <td>[expert, poring, thousand, new, coronavirusthe...</td>\n      <td>Sipping from the Coronavirus Domain Firehose —...</td>\n    </tr>\n    <tr>\n      <th>1</th>\n      <td>2020-04-15</td>\n      <td>[covid19, united, cybersecurity, expert, unity...</td>\n      <td>[coronavirus, prompted, thousand, information,...</td>\n      <td>COVID-19 Has United Cybersecurity Experts, But...</td>\n    </tr>\n    <tr>\n      <th>2</th>\n      <td>2020-04-14</td>\n      <td>[microsoft, patch, tuesday, april, 2020, edition]</td>\n      <td>[microsoft, today, released, update, fix, 113,...</td>\n      <td>Microsoft Patch Tuesday, April 2020 Edition — ...</td>\n    </tr>\n    <tr>\n      <th>3</th>\n      <td>2020-04-10</td>\n      <td>[new, irs, site, could, make, easy, thief, int...</td>\n      <td>[u, federal, government, process, sending, eco...</td>\n      <td>New IRS Site Could Make it Easy for Thieves to...</td>\n    </tr>\n    <tr>\n      <th>4</th>\n      <td>2020-04-07</td>\n      <td>[microsoft, buy, corpcom, bad, guy, cant]</td>\n      <td>[february, told, story, private, citizen, auct...</td>\n      <td>Microsoft Buys Corp.com So Bad Guys Can’t —  K...</td>\n    </tr>\n  </tbody>\n</table>\n</div>",
            "text/plain": "        Date                                              Title  \\\n0 2020-04-16           [sipping, coronavirus, domain, firehose]   \n1 2020-04-15  [covid19, united, cybersecurity, expert, unity...   \n2 2020-04-14  [microsoft, patch, tuesday, april, 2020, edition]   \n3 2020-04-10  [new, irs, site, could, make, easy, thief, int...   \n4 2020-04-07          [microsoft, buy, corpcom, bad, guy, cant]   \n\n                                                Body  \\\n0  [expert, poring, thousand, new, coronavirusthe...   \n1  [coronavirus, prompted, thousand, information,...   \n2  [microsoft, today, released, update, fix, 113,...   \n3  [u, federal, government, process, sending, eco...   \n4  [february, told, story, private, citizen, auct...   \n\n                                   Unprocessed Title  \n0  Sipping from the Coronavirus Domain Firehose —...  \n1  COVID-19 Has United Cybersecurity Experts, But...  \n2  Microsoft Patch Tuesday, April 2020 Edition — ...  \n3  New IRS Site Could Make it Easy for Thieves to...  \n4  Microsoft Buys Corp.com So Bad Guys Can’t —  K...  "
          },
          "metadata": {}
        }
      ]
    },
    {
      "metadata": {
        "trusted": true
      },
      "cell_type": "code",
      "source": "vectorizer = TfidfVectorizer(ngram_range=(1,2))",
      "execution_count": 6,
      "outputs": []
    },
    {
      "metadata": {
        "trusted": true
      },
      "cell_type": "code",
      "source": "tfidf_matrix = vectorizer.fit_transform(df['Body'].apply(', '.join))",
      "execution_count": 7,
      "outputs": []
    },
    {
      "metadata": {
        "trusted": true
      },
      "cell_type": "code",
      "source": "cosine_sim = linear_kernel(tfidf_matrix, tfidf_matrix)",
      "execution_count": 38,
      "outputs": []
    },
    {
      "metadata": {
        "trusted": true
      },
      "cell_type": "code",
      "source": "def get_recommendations(title, cosine_sim):\n    #Get the index \n    indices = pd.Series(df.index, index=df['Unprocessed Title']).drop_duplicates()\n    idx = indices[title]\n    sim_scores = list(enumerate(cosine_sim[idx]))\n    sim_scores = sorted(sim_scores, key=lambda x: x[1], reverse=True)\n    sim_scores = sim_scores[1:9]\n    article_indices = [i[0] for i in sim_scores]\n    return df['Unprocessed Title'].iloc[article_indices]\n    ",
      "execution_count": 56,
      "outputs": []
    },
    {
      "metadata": {
        "trusted": true
      },
      "cell_type": "code",
      "source": "print(df['Unprocessed Title'][1])",
      "execution_count": 65,
      "outputs": [
        {
          "output_type": "stream",
          "text": "COVID-19 Has United Cybersecurity Experts, But Will That Unity Survive the Pandemic? —  Krebs on Security\n",
          "name": "stdout"
        }
      ]
    },
    {
      "metadata": {
        "trusted": true
      },
      "cell_type": "code",
      "source": "test_title_1 = 'ATM Skimmers, Part II —  Krebs on Security'\ntest_title_2 = 'Microsoft Buys Corp.com So Bad Guys Can’t —  Krebs on Security'\nget_recommendations(test_title_2, cosine_sim)",
      "execution_count": 67,
      "outputs": [
        {
          "output_type": "execute_result",
          "execution_count": 67,
          "data": {
            "text/plain": "31      Dangerous Domain Corp.com Goes Up for Sale —  ...\n203     That Domain You Forgot to Renew? Yeah, it’s No...\n175     Bomb Threat, Sextortion Spammers Abused Weakne...\n38      Does Your Domain Have a Registry Lock? —  Kreb...\n0       Sipping from the Coronavirus Domain Firehose —...\n1348    Microsoft to Botmasters: Abandon Your Inboxes ...\n262     Bad .Men at .Work. Please Don’t .Click —  Kreb...\n1301    DoItQuick: Fast Domains for Dirty Deeds —  Kre...\nName: Unprocessed Title, dtype: object"
          },
          "metadata": {}
        }
      ]
    },
    {
      "metadata": {
        "trusted": true
      },
      "cell_type": "code",
      "source": "df['Date'][31]",
      "execution_count": 63,
      "outputs": [
        {
          "output_type": "execute_result",
          "execution_count": 63,
          "data": {
            "text/plain": "Timestamp('2020-02-08 00:00:00')"
          },
          "metadata": {}
        }
      ]
    },
    {
      "metadata": {
        "trusted": true
      },
      "cell_type": "code",
      "source": "df['Date'][4]",
      "execution_count": 64,
      "outputs": [
        {
          "output_type": "execute_result",
          "execution_count": 64,
          "data": {
            "text/plain": "Timestamp('2020-04-07 00:00:00')"
          },
          "metadata": {}
        }
      ]
    },
    {
      "metadata": {
        "trusted": true
      },
      "cell_type": "code",
      "source": "",
      "execution_count": null,
      "outputs": []
    }
  ],
  "metadata": {
    "kernelspec": {
      "name": "python36",
      "display_name": "Python 3.6",
      "language": "python"
    },
    "language_info": {
      "mimetype": "text/x-python",
      "nbconvert_exporter": "python",
      "name": "python",
      "pygments_lexer": "ipython3",
      "version": "3.6.6",
      "file_extension": ".py",
      "codemirror_mode": {
        "version": 3,
        "name": "ipython"
      }
    }
  },
  "nbformat": 4,
  "nbformat_minor": 1
}