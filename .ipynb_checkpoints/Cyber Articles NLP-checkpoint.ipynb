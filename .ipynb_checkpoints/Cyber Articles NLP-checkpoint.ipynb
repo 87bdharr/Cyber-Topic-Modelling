{
  "cells": [
    {
      "metadata": {
        "trusted": true,
        "collapsed": true
      },
      "cell_type": "code",
      "source": "#!pip install urllib3\n#!pip install spacy\n#!python3 -m spacy download en_core_web_sm\n#!pip install nltk\n#!pip install beautifulsoup4\n#!pip install textacy\n#!pip install feedparser",
      "execution_count": 18,
      "outputs": []
    },
    {
      "metadata": {
        "trusted": true
      },
      "cell_type": "code",
      "source": "#Import all the necessary packages\nimport urllib3\nfrom bs4 import BeautifulSoup\nimport spacy\nfrom spacy import displacy\nimport nltk\nfrom nltk.tokenize import RegexpTokenizer\nimport textacy.extract\nimport pandas as pd\nimport numpy as np\nimport matplotlib.pyplot as plt\nimport seaborn as sns\nimport requests\nimport re\nimport feedparser\nfrom pandas.io.json import json_normalize\nimport datetime\nfrom time import sleep\nimport time\nfrom random import randint\nfrom IPython.core.display import clear_output\nimport warnings\nimport pickle",
      "execution_count": 1,
      "outputs": []
    },
    {
      "metadata": {
        "trusted": true
      },
      "cell_type": "code",
      "source": "# Dispay images inline\n%matplotlib inline",
      "execution_count": 3,
      "outputs": []
    },
    {
      "metadata": {},
      "cell_type": "markdown",
      "source": "## Get the Data into the notebook"
    },
    {
      "metadata": {
        "trusted": true
      },
      "cell_type": "code",
      "source": "#Specify URL Location\nurl = 'https://www.infosecurity-magazine.com/blogs/remote-security-challenges-covid19/'",
      "execution_count": 4,
      "outputs": []
    },
    {
      "metadata": {
        "trusted": true
      },
      "cell_type": "code",
      "source": "#Make a get request to the URL and print its response (status)\nr = requests.get(url)\n#print(r)",
      "execution_count": 5,
      "outputs": []
    },
    {
      "metadata": {
        "trusted": true
      },
      "cell_type": "code",
      "source": "#Read in the html from the URL\nhtml = r.text\n#print(html)",
      "execution_count": 6,
      "outputs": []
    },
    {
      "metadata": {},
      "cell_type": "markdown",
      "source": "## Extract data from text"
    },
    {
      "metadata": {
        "trusted": true
      },
      "cell_type": "code",
      "source": "#Create a BeautifulSoup object from the HTML and set the parser to html5lib\nsoup_covid = BeautifulSoup(html, \"html5lib\")\n#type(soup)",
      "execution_count": 7,
      "outputs": []
    },
    {
      "metadata": {
        "trusted": true
      },
      "cell_type": "code",
      "source": "#Find article title\nsoup_covid.title.get_text()",
      "execution_count": 8,
      "outputs": [
        {
          "output_type": "execute_result",
          "execution_count": 8,
          "data": {
            "text/plain": "'\\n\\tRemote Workforces: Security Challenges Amid #COVID19 - Infosecurity Magazine\\n'"
          },
          "metadata": {}
        }
      ]
    },
    {
      "metadata": {
        "trusted": true
      },
      "cell_type": "code",
      "source": "#Extract text only from the paragraphs tags \nparas = soup_covid.find_all('p')\n\ntext=[]\n\n#Loop over each paragraph tag (<p>) and get_text()\nfor p in paras:\n    text.append(p.get_text())\n#text",
      "execution_count": 9,
      "outputs": []
    },
    {
      "metadata": {
        "trusted": true
      },
      "cell_type": "code",
      "source": "#Convert the text list object into a string so it can be tokenized\nstring = ' '.join(text)",
      "execution_count": 10,
      "outputs": []
    },
    {
      "metadata": {
        "trusted": true
      },
      "cell_type": "code",
      "source": "#Create a tokenizer\ntokenizer = RegexpTokenizer('\\w+')",
      "execution_count": 11,
      "outputs": []
    },
    {
      "metadata": {
        "trusted": true
      },
      "cell_type": "code",
      "source": "#Create the tokens\ntokens = tokenizer.tokenize(string)\n#print(tokens)",
      "execution_count": 12,
      "outputs": []
    },
    {
      "metadata": {
        "trusted": true
      },
      "cell_type": "code",
      "source": "#Make all tokens begin with a lower case\nwords = []\nfor word in tokens:\n    words.append(word.lower())\n#words[:10]",
      "execution_count": 13,
      "outputs": []
    },
    {
      "metadata": {
        "trusted": true
      },
      "cell_type": "code",
      "source": "#Create a list of enlgish stop words\nnltk.download('stopwords')\nsw = nltk.corpus.stopwords.words('english')\n#sw[:10]",
      "execution_count": 15,
      "outputs": [
        {
          "output_type": "stream",
          "text": "[nltk_data] Downloading package stopwords to /home/nbuser/nltk_data...\n[nltk_data]   Unzipping corpora/stopwords.zip.\n",
          "name": "stdout"
        }
      ]
    },
    {
      "metadata": {
        "trusted": true
      },
      "cell_type": "code",
      "source": "#Remove english stop words from the tokens\nwords_ns = []\n\nfor word in words:\n    if word not in sw:\n        words_ns.append(word)\n        \n#words_ns[:10]",
      "execution_count": 16,
      "outputs": []
    },
    {
      "metadata": {
        "trusted": true
      },
      "cell_type": "code",
      "source": "#Create a frequency distribution of the top 20 words\n\n#Set the style of the plot to seaborn\nsns.set()\n\n#Use built in FreqDist function from nltk to produce a frequency distribution plot\nfreqdist1 = nltk.FreqDist(words_ns)\nfreqdist1.plot(20)\n",
      "execution_count": 17,
      "outputs": [
        {
          "output_type": "display_data",
          "data": {
            "image/png": "[encoded data removed]",
            "text/plain": "<Figure size 432x288 with 1 Axes>"
          },
          "metadata": {}
        }
      ]
    },
    {
      "metadata": {},
      "cell_type": "markdown",
      "source": "## NLP with spacy"
    },
    {
      "metadata": {
        "trusted": true
      },
      "cell_type": "code",
      "source": "#Load spacy and parse article text to 'doc'\nnlp = spacy.load('en_core_web_sm')\ndoc = nlp(string)",
      "execution_count": 19,
      "outputs": []
    },
    {
      "metadata": {
        "trusted": true
      },
      "cell_type": "code",
      "source": "#Create tokens \ntokens_2 = []\nfor token in doc:\n    tokens_2.append(token.text)\n#print(tokens)",
      "execution_count": 20,
      "outputs": []
    },
    {
      "metadata": {
        "trusted": true
      },
      "cell_type": "code",
      "source": "#Load Spacy's stop words\nspacy_stopwords = spacy.lang.en.stop_words.STOP_WORDS",
      "execution_count": 21,
      "outputs": []
    },
    {
      "metadata": {
        "trusted": true
      },
      "cell_type": "code",
      "source": "#Remove stop words from tokens\ntokens_sw = []\n\nfor token in tokens_2:\n    if token not in spacy_stopwords:\n        tokens_sw.append(token)\n\n#print(tokens_sw)",
      "execution_count": 22,
      "outputs": []
    },
    {
      "metadata": {
        "trusted": true
      },
      "cell_type": "code",
      "source": "#for entity in doc.ents:\n    #print(f\"{entity.text} ({entity.label_})\")",
      "execution_count": 23,
      "outputs": []
    },
    {
      "metadata": {
        "trusted": true
      },
      "cell_type": "code",
      "source": "#Create a variable that extracts noun_chunks from the article\nnoun_chunks = textacy.extract.noun_chunks(doc, min_freq=3)\n\n#Convert noun_chunks to all lower case strings  \nnoun_chunks = map(str, noun_chunks)\nnoun_chunks = map(str.lower, noun_chunks)",
      "execution_count": 24,
      "outputs": []
    },
    {
      "metadata": {
        "trusted": true
      },
      "cell_type": "code",
      "source": "for noun_chunk in set(noun_chunks):\n    if len(noun_chunk.split(\" \")) >1:\n        print(noun_chunk)",
      "execution_count": 25,
      "outputs": []
    },
    {
      "metadata": {
        "trusted": true
      },
      "cell_type": "code",
      "source": "#Render the original text with named entities highlighted\ndisplacy.render(doc, style='ent', jupyter=True)",
      "execution_count": 26,
      "outputs": [
        {
          "output_type": "display_data",
          "data": {
            "text/html": "<span class=\"tex2jax_ignore\"><div class=\"entities\" style=\"line-height: 2.5; direction: ltr\">Many organizations around the world have asked their employees to work from home in response to the COVID-19 outbreak. This has created cybersecurity challenges for many businesses as they often lack the experience, protocols and technologies to enable a remote workforce, in a secure way. Here are some common challenges organizations are facing as they transition their workforce. Remote Workers Lack Security Awareness Many employees are working from home for the \n<mark class=\"entity\" style=\"background: #e4e7d2; padding: 0.45em 0.6em; margin: 0 0.25em; line-height: 1; border-radius: 0.35em;\">\n    first\n    <span style=\"font-size: 0.8em; font-weight: bold; line-height: 1; border-radius: 0.35em; text-transform: uppercase; vertical-align: middle; margin-left: 0.5rem\">ORDINAL</span>\n</mark>\n time. They don’t know the best practices that experienced remote workers know well, such as using a \n<mark class=\"entity\" style=\"background: #bfeeb7; padding: 0.45em 0.6em; margin: 0 0.25em; line-height: 1; border-radius: 0.35em;\">\n    VPN\n    <span style=\"font-size: 0.8em; font-weight: bold; line-height: 1; border-radius: 0.35em; text-transform: uppercase; vertical-align: middle; margin-left: 0.5rem\">PRODUCT</span>\n</mark>\n on public networks, or not saving sensitive information on their personal devices. Negligent employees are the number \n<mark class=\"entity\" style=\"background: #e4e7d2; padding: 0.45em 0.6em; margin: 0 0.25em; line-height: 1; border-radius: 0.35em;\">\n    one\n    <span style=\"font-size: 0.8em; font-weight: bold; line-height: 1; border-radius: 0.35em; text-transform: uppercase; vertical-align: middle; margin-left: 0.5rem\">CARDINAL</span>\n</mark>\n cause of cybersecurity breaches and the risk increases exponentially when working remotely. The solution is simple – train your employees in the fundamentals and retrain them periodically. Equipping your employees with the right knowledge and tools will go a long way in protecting your valuable data. </br></br> The cybersecurity awareness training should cover cybersecurity best practices and rules employees should follow when working remotely. Here are the suggested topics to include: </br></br> </br></br> Increased Susceptibility to Phishing Attacks  Phishing attacks are the practice of sending fraudulent communications that appear to come from a reputable source. Oftentimes, phishing attacks trick targets into handing over their passwords, which can be used to access organizational data. We are now seeing an increase in phishing attacks using \n<mark class=\"entity\" style=\"background: #7aecec; padding: 0.45em 0.6em; margin: 0 0.25em; line-height: 1; border-radius: 0.35em;\">\n    coronavirus\n    <span style=\"font-size: 0.8em; font-weight: bold; line-height: 1; border-radius: 0.35em; text-transform: uppercase; vertical-align: middle; margin-left: 0.5rem\">ORG</span>\n</mark>\n references to bait employees into clicking on links or attachments infected with malware. </br></br> If you have conducted cybersecurity awareness training, consider sending a security reminder encouraging employees to take the following precautions: Employees may have already fallen for phishing attacks, and even handed over their credentials. Or they could be using compromised passwords leaked from previous breaches, creating a vulnerability for your business. To prevent cyber-criminals from exploiting those passwords to gain access into your corporate network, use this free password auditing tool to scan your \n<mark class=\"entity\" style=\"background: #7aecec; padding: 0.45em 0.6em; margin: 0 0.25em; line-height: 1; border-radius: 0.35em;\">\n    Active Directory\n    <span style=\"font-size: 0.8em; font-weight: bold; line-height: 1; border-radius: 0.35em; text-transform: uppercase; vertical-align: middle; margin-left: 0.5rem\">ORG</span>\n</mark>\n for compromised passwords. Password Expiration Putting a Strain on Service \n<mark class=\"entity\" style=\"background: #aa9cfc; padding: 0.45em 0.6em; margin: 0 0.25em; line-height: 1; border-radius: 0.35em;\">\n    Desk Password\n    <span style=\"font-size: 0.8em; font-weight: bold; line-height: 1; border-radius: 0.35em; text-transform: uppercase; vertical-align: middle; margin-left: 0.5rem\">PERSON</span>\n</mark>\n expiration reminders work while in the office or on-network, but fail to notify users when working remotely. Expired passwords increase calls to the service desk where the IT staff is already burdened with transitioning to a remote organization. Identifying accounts with passwords approaching expiration with proactive communication can help you prevent the issue altogether. This free password notification tool enables IT admins to configure password expiration email reminders to be sent via their own SMTP server, letting IT admins communicate password expirations to remote users. You can define how long prior to the password expiration the emails will be sent, as well as how often they are sent. COVID-19: An Opportunity for Better Security The weak infrastructure combined with targeted COVID-19 phishing attacks create a prime opportunity for cyber-criminals. However, organizations can also use the outbreak as an opportunity to strengthen security and implement the above solutions to decrease risk. Should you register for this event your information will be shared with the sponsor indicated above. See our privacy policy for more information.</div></span>",
            "text/plain": "<IPython.core.display.HTML object>"
          },
          "metadata": {}
        }
      ]
    },
    {
      "metadata": {
        "trusted": true
      },
      "cell_type": "markdown",
      "source": "## Scraping data from RSS feeds"
    },
    {
      "metadata": {
        "trusted": true
      },
      "cell_type": "code",
      "source": "#Specify RSS URL\nrss_url = 'https://krebsonsecurity.com/feed/'",
      "execution_count": 27,
      "outputs": []
    },
    {
      "metadata": {
        "trusted": true
      },
      "cell_type": "code",
      "source": "#Read RSS feed XML\nnews_feed = feedparser.parse(rss_url)",
      "execution_count": 28,
      "outputs": []
    },
    {
      "metadata": {
        "trusted": true
      },
      "cell_type": "code",
      "source": "#Flatten the data\ndf_news_feed = json_normalize(news_feed.entries)",
      "execution_count": 29,
      "outputs": []
    },
    {
      "metadata": {
        "trusted": true
      },
      "cell_type": "code",
      "source": "#Read in the links for individual articles from the RSS feed\ndf_news_feed.link.head()",
      "execution_count": 30,
      "outputs": [
        {
          "output_type": "execute_result",
          "execution_count": 30,
          "data": {
            "text/plain": "0    https://krebsonsecurity.com/2020/04/sipping-fr...\n1    https://krebsonsecurity.com/2020/04/covid-19-h...\n2    https://krebsonsecurity.com/2020/04/microsoft-...\n3    https://krebsonsecurity.com/2020/04/new-irs-si...\n4    https://krebsonsecurity.com/2020/04/microsoft-...\nName: link, dtype: object"
          },
          "metadata": {}
        }
      ]
    },
    {
      "metadata": {
        "trusted": true
      },
      "cell_type": "code",
      "source": "df_news_feed.title",
      "execution_count": 31,
      "outputs": [
        {
          "output_type": "execute_result",
          "execution_count": 31,
          "data": {
            "text/plain": "0         Sipping from the Coronavirus Domain Firehose\n1    COVID-19 Has United Cybersecurity Experts, But...\n2          Microsoft Patch Tuesday, April 2020 Edition\n3    New IRS Site Could Make it Easy for Thieves to...\n4            Microsoft Buys Corp.com So Bad Guys Can’t\n5    ‘War Dialing’ Tool Exposes Zoom’s Password Pro...\n6    Phish of GoDaddy Employee Jeopardized Escrow.c...\n7        Annual Protest to ‘Fight Krebs’ Raises €150K+\n8              Russians Shut Down Huge Card Fraud Ring\n9         US Government Sites Give Bad Security Advice\nName: title, dtype: object"
          },
          "metadata": {}
        }
      ]
    },
    {
      "metadata": {},
      "cell_type": "markdown",
      "source": "## Scraping data straight from html pages"
    },
    {
      "metadata": {
        "trusted": true
      },
      "cell_type": "code",
      "source": "#Define the target url and create a BeautifulSoup object called 'soup'\nkrebs_url = 'https://krebsonsecurity.com/2014/05/experian-breach-tied-to-ny-nj-id-theft-ring/'\ncontent = requests.get(krebs_url)\nsoup = BeautifulSoup(content.text, 'html.parser')",
      "execution_count": 32,
      "outputs": []
    },
    {
      "metadata": {
        "trusted": true
      },
      "cell_type": "code",
      "source": "#Create a function that converts lists to strings\ndef list_to_string(l):\n    str1 = ' '\n    return (str1.join(l))",
      "execution_count": 33,
      "outputs": []
    },
    {
      "metadata": {
        "trusted": true
      },
      "cell_type": "code",
      "source": "#strip back the date so it only includes numeric values\ndef date_stripper(d):\n    x = re.findall('\\d+', d)\n    x_string = list_to_string(x)\n    return x_string ",
      "execution_count": 34,
      "outputs": []
    },
    {
      "metadata": {
        "trusted": true
      },
      "cell_type": "code",
      "source": "#Define a function that accepts soup objects and prints and returns a datetime object\ndef article_date(soup):\n    \n        \n    #Extract the date from the page- N.B. This extraction is specific to the krebs on security page\n    url_date = soup.find('p', attrs={'class':'postmetadata alt'}).get_text()\n    reg_date = re.findall('on (.*?) at', url_date)\n    reg_date_string = list_to_string(reg_date)\n    \n    reg_date_token = tokenizer.tokenize(reg_date_string)\n    date = reg_date_token\n    \n    month_day = reg_date_token[2]\n    \n    date[2] = date_stripper(month_day)\n    \n    date_str = list_to_string(date)\n    date_time_obj = datetime.datetime.strptime(date_str, '%A %B %d %Y')\n    \n    #return the datetime values\n    return date_time_obj\n    print(date_time_obj)",
      "execution_count": 35,
      "outputs": []
    },
    {
      "metadata": {
        "trusted": true
      },
      "cell_type": "code",
      "source": "#Extract the article title from soup object \ndef article_title(soup):\n    article_title = soup.title.get_text()\n    return article_title",
      "execution_count": 36,
      "outputs": []
    },
    {
      "metadata": {
        "trusted": true
      },
      "cell_type": "code",
      "source": "#Extract the article body from soup object\ndef article_body(soup):\n    article_body = soup.find_all('p') #Find paragraph tags <p>\n    \n    text_body = [] #initalize an empty list where the paragraphs will live\n    for para in article_body:\n        text_body.append(para.get_text())\n    return text_body",
      "execution_count": 37,
      "outputs": []
    },
    {
      "metadata": {
        "trusted": true
      },
      "cell_type": "code",
      "source": "article_date(soup)",
      "execution_count": 38,
      "outputs": [
        {
          "output_type": "execute_result",
          "execution_count": 38,
          "data": {
            "text/plain": "datetime.datetime(2014, 5, 19, 0, 0)"
          },
          "metadata": {}
        }
      ]
    },
    {
      "metadata": {
        "trusted": true
      },
      "cell_type": "code",
      "source": "article_title(soup)",
      "execution_count": 39,
      "outputs": [
        {
          "output_type": "execute_result",
          "execution_count": 39,
          "data": {
            "text/plain": "'Experian Breach Tied to NY-NJ ID Theft Ring —  Krebs on Security'"
          },
          "metadata": {}
        }
      ]
    },
    {
      "metadata": {
        "trusted": true
      },
      "cell_type": "code",
      "source": "article_body(soup)",
      "execution_count": 40,
      "outputs": [
        {
          "output_type": "execute_result",
          "execution_count": 40,
          "data": {
            "text/plain": "['Last year, a top official from big-three credit bureau Experian told Congress that the firm was not aware of any consumers that had been harmed by an incident in which a business unit of Experian sold consumer records directly to an online identity theft service for nearly 10 months. Today’s post presents evidence that among the ID theft service’s clients was an identity theft and credit card fraud ring of at least 32 people who were arrested last year for\\xa0allegedly using\\xa0the information to steal millions from more \\xa0than 1,000 victims across the country.',\n 'Ngo’s ID theft service superget.info',\n 'On March 31, 2014, 26-year-old Idris Soyemi of Brooklyn, New York pleaded guilty in a New Hampshire court to one count of wire fraud. In Soyemi’s guilty plea hearing, the prosecutor\\xa0laid out how Soyemi on several occasions bought Social Security numbers, dates of birth and other personal information from an online identity theft service run by guy named Hieu Minh Ngo.',\n 'Ngo is a Vietnamese national who for several years ran an online identity theft service called superget.info. Shortly after my 2011 initial story about his service, Ngo tauntingly renamed his site to findget.me. The Secret Service took him up on that challenge, and succeeded in luring him out of Vietnam into Guam, where he was arrested and brought to New Hampshire for trial. He pleaded guilty earlier this year to running the ID theft service, and the government has been working on rounding up his customers ever since.',\n 'According to Soyemi’s guilty plea transcript\\xa0(PDF), U.S. Secret Service agents seized control over Ngo’s email account in February 2013 and used it to interact with his customers. Posing as Ngo, the undercover agent reached out to Soyemi and wrote, “I’m back. You doing tax refund or credit card?”, asking Soyemi whether he was buying personal data on consumers to set up new lines of credit in their names or to file fraudulent tax refund requests with the IRS — a rapidly growing form of cybercrime. Soyemi responded, “I do credit cards but can you tell me about tax refund?” (if you missed last month’s story about an Ohio man who’s accused of using Ngo’s service to file at least 150 fraudulent tax refund requests with the IRS, check that\\xa0out here).',\n 'Interestingly, Soyemi was part of a huge network of nearly three dozen people who were rounded up last year and charged with taking out new credit cards in victims’ names and then using the cards to make millions of dollars in retail purchases that were then fenced on the black market. From an April 2013 story in the Jersey Journal:',\n '“The leaders of the group, authorities say, purchased the identities of unsuspecting victims from online brokers, who got the information from computer hackers across the United States….”',\n '“In a process known as ‘punching,’ electronic account information from the cards’ magnetic strips would be transferred onto counterfeit cards, which were provided to “strikers” who conducted the purchases at retailers all over the Eastern Seaboard, authorities say…”',\n '….”The investigation has identified nearly 1,000 victims across the country and millions of dollars in phony transactions, authorities say.”',\n '“Authorities say the suspects spent the proceeds on luxury cars, high-end jewelry and other lavish expenses. Some of the money was additionally sent to accounts in Nigeria, authorities say.”',\n 'Further tying this group to Ngo’s service is a four-count indictment\\xa0(PDF) lodged against another man named in that identity theft ring roundup by the New Jersey prosecutor’s office: Oluwaseun Adekoya, 25, of Sewaren, NJ. Adekoya’s indictment makes numerous references to his alleged purchase of hundreds of consumer records from an online identity theft service that was taken over by U.S. Secret Service agents in February 2013 (recall that in Soyemi’s guilty plea hearing government prosecutors said that in that same month undercover Secret Service agents assumed control of the email account tied to Ngo’s identity theft service).',\n 'According to the government, Adekoya was a ringleader among the group who directed the activities of several men, including Atlanta, Ga. resident\\xa0Adebayo Adegbesan, another defendant in the identity theft ring who pleaded guilty in New Hampshire recently. A transcript of Adegbesan’s guilty plea hearing doesn’t mention Ngo, but it does reveal that the New Hampshire district court and the U.S. Attorney who is prosecuting the case — Arnold Huftalen — have their hands full processing a large number of defendants tied to the same case.',\n 'Prosecutors told the court that they’d hoped to lure Adekoya to New Hampshire after he’d arranged to collect what he believed was more than $100,000 worth of bank account information encoded onto white plastic cards that could be used to pull cash out of ATMs. Instead, Adekoya allegedly sent Adegbesan and three others to pick up the cards.',\n 'I enjoyed reading the discussion between the court and Huftalen, particularly the part about the “SODDI defense.” Here, the two are discussing the large number of defendants related to this case. Also, as it turns out, Matthew O’Neil — the U.S. Secret Service agent who came up with the plan to lure Ngo out of Vietnam and to entice his clients into traveling to New Hampshire — was recently honored with the Secret Service Agent of the Year award for his work on the case.',\n 'THE COURT: Okay. Fine. Just curious because I’ve seen a few of them come through now. Maybe related to this, maybe unrelated to this. I seem to have a number of these with you right now.',\n 'MR. HUFTALEN: I have more than I’d like, and\\xa0I’m sure you do, too.',\n 'THE COURT: People are told to come up to New\\xa0Hampshire and do this stuff. It’s a good approach. You\\xa0end up catching a lot of people.',\n 'MR. HUFTALEN: The whole lure, I mean, is to\\xa0eliminate this SODDI defense, S-O-D-D-I, some other dude did it. When you’re talking with somebody on the\\xa0computer, as you know, unless you have eyes on him on\\xa0the keyboard, there’s always that reasonable doubt.',\n 'THE COURT: It’s a very effective law enforcement technique. Believe me, I’m not in any way being critical of it. I’m curious about it and I of course want to see that, to the extent I have responsibilities with respect to it, that I fulfill those responsibilities, and I’m just learning about it, trying to understand it.',\n 'MR. HUFTALEN: I don’t think you will see a whole lot more of these.',\n 'THE COURT: It seems like you have a very creative active agent who’s working with you on at least some of these cases and I just was wondering.',\n 'MR. HUFTALEN: Who was in Washington, D.C. this week to get an award because he was selected as the Secret Service Agent of the year.',\n 'THE COURT: Really. That’s what I mean. He seems like a go-getter kind of person and people like that tend to produce lots of cases.',\n 'MR. HUFTALEN: And the targets that he and I are targeting are not like the person who’s sitting here in court today.',\n 'THE COURT: They’re people above him.',\n 'MR. HUFTALEN: Way above.',\n 'Several state attorneys general are now investigating the apparent breach at Experian’s subsidiary. According to U.S. government investigators, the data was not obtained directly from Experian, but rather via Columbus, Ohio-based US Info Search. US Info Search had a contractual agreement with a California company named Court Ventures, whereby customers of Court Ventures had access to the US Info Search data as well as Court Ventures’ data, and vice versa. Experian came into the picture in March 2012, when it purchased Court Ventures (along with all of its customers — including Mr. Ngo). For almost ten months after Experian completed that acquisition, Ngo continued siphoning consumer data and making his wire transfers.',\n 'A transcript (PDF) of Ngo’s guilty plea proceedings shows that his ID theft business attracted more than 1,300 customers who paid at least $1.9 million between 2007 and Feb. 2013 to look up Social Security numbers, dates of birth, addresses, previous addresses, phone numbers, email addresses and other sensitive data on more than three million Americans. Meanwhile, Experian has maintained that “no Experian database was accessed” in the fraud stemming from Ngo’s identity theft service. Check out a fact-checked version of Experian’s talking points on the matter here.',\n '\\n\\n\\n ',\n \"Tags: Adebayo Adegbesan, Arnold Huftalen, Experian breach, findget.me, Hieu Minh Ngo, Idris Soyemi, Matthew O'Neil, Oluwaseun Adekoy, superget.info\",\n '\\n\\r\\n\\t\\t\\t\\t\\t\\tThis entry was posted on Monday, May 19th, 2014 at 12:04 am\\t\\t\\t\\t\\t\\tand is filed under Other, Tax Refund Fraud.\\r\\n\\t\\t\\t\\t\\t\\tYou can follow any comments to this entry through the RSS 2.0 feed.\\r\\n\\r\\n\\t\\t\\t\\t\\t\\t\\t\\t\\t\\t\\t\\t\\tBoth comments and pings are currently closed.\\r\\n\\r\\n\\t\\t\\t\\t\\t\\t\\r\\n\\t\\t\\t\\t\\t\\n',\n '“Experian has maintained that “no Experian database was accessed” in the fraud stemming from Ngo’s identity theft service.”',\n 'Seems to me Experian is asserting a little SOFDI smokescreen of its own. ',\n '(I wonder if/when Experian management will ever be held to account or be indicted.)',\n 'Feels nice.',\n 'ಠ_ಠ FAIL',\n 'Adebayo Adegbesan and Oluwaseun Adekoya.\\nNigerian names.\\nIs Nigeria the biggest exporter of con-artists in the world?\\nI think we should be told.',\n 'How many Nigerians does it take to screw in a light bulb?',\n 'We’ll never know because they keep stealing it.',\n 'Great piece Brian. Any idea why such an important case would be handled in New Hampshire as opposed to NY or LA? Seems like NH has a ton of these hacker cases for such a little state.',\n 'Probably because there’s no backlog in that court district…  That’s my guess.  Either that, or the prosecutor has a vacation home up there.',\n 'Theodore – I doubt the government decides where to charge someone based on vacation properties of its employees.    Maybe there are servers or something up there so that’s why so many cyber cases are there. Maybe Brian knows.',\n 'It’s all about establishing jurisdiction. The agent was from NH and had victims in that state. Getting the defendants to travel to there, as stated in the linked complaints, helps prosecutors avoid the “some other dude did it” or SODDI defense.',\n 'BRAVO BRIAN KREBS BRAVO…… WILL THANK U LATER',\n 'According to the indictment, the defendant was charged with attempting to defraud banks located in New Hampshire.',\n '“…the defendant …  devised a scheme and artifice to defraud several “financial institutions” (as that term is defined in 18 U.S.C. §20) including Peoples United Bank in Manchester, NH and St. Mary’s Bank in Manchester, NH…”',\n 'And in addition, the undercover agent was located in NH, and the defendant was lured to NH to obtain fake cards and used them at NH ATMs. It’s all in the indictment that Brian links to.',\n '“the defendant, …communicated with an individual who, unbeknownst to the defendant, was an undercover agent located in New Hampshire, with respect to planning and carrying out a scheme whereby the defendant would travel to New Hampshire, and would cause others to travel to New Hamp shire, for the sole purpose of using approximately two hundred (200) white plastic cards (which the defendant believed were encoded with actual bank account info rmation) to fraudulently obtain money and funds from ATMs in New Hampshire. “',\n 'i understand that…but why New Hampshire?  seems like something more sophisticated places in usa would do…i always thought NH was the West Virginia of the north.',\n '“The recipe for perpetual ignorance is: Be satisfied with your opinions and content with your knowledge.”',\n 'Get out your map of the U.S.A. and you’ll see that West Virginia isn’t in the south. Not that New Hampshire and West Virginia have any striking similarities, anyway.',\n '“seems like something more sophisticated places in usa would do”',\n 'It seems to me the criminals are flocking to the more sophisticated places where people are sophisticated enough to think that criminals are the real victims.',\n '+100',\n 'Brian,',\n 'Thanks for you diligence in pursuing this matter.',\n 'To me, it is obvious that Experian did a poor job of vetting/due diligence on Ngo (and possibly others).  This may be criminal or merely misfeasance on Experian’s part.  ',\n 'Questions/comments:',\n 'Experian has access to extremely private data, which it sells to credible creditors (??).  It seems to me that the Experian’s bad/misfeasant actors sold the data to the wrong person/people.  This seems to be either poor judgment, a systemic problem(s) at Experian, negligence, ineptitude or criminal activity at Experian.  ',\n 'How do we expose the bad actors at Experian who were involved in this, for whatever reason?  How do we make sure that these bad actors never again have the opportunity to sell our sensitive data, at any company?  How do we force Experian and others to be more forthcoming, honest, transparent in matters like this?',\n 'You don’t – their entire business model relies upon cheaply accumulating and selling data about as many people as they can.  Spending a lot of money vetting the data breaks their profits, as does vetting the customers. Step one would be imposing strong regulation, which would quickly find their way of doing business unethical and unsupportable in the long run, so because of their power and money that will never happen.',\n 'Errata:  “you diligence” should be “your diligence” .',\n 'Interesting   stuff,  I need to check out those PDF files',\n 'Very interesting case. I agree with Jerry, I think that exposing the people who were involved in this is definitely necessary to solve the problem completely and prevent it from happening again. What do you think the first step in this process should be? And how can people know whether or not to trust employees of Experian in the future once this problem is resolved?',\n 'The problem lies squarely with Experian in this breach since they have the deep pockets, the resources and obligation to prevent it.  The only way to have them provide better security is through fines and law suits from every fraudulence use of their information.  Consumers should be able to request that their information be removed from their databases.  If the data isn’t their its less likely to be compromised and consumers can then make other arrangements with vendors for providing personal information.  Once upon a time, this is how it was done.',\n 'Thanks for the insights, Brian.  It took me a couple of read-through a to realize that SODDI stands for “some other guy did it.”   It’s a shady situation and your dry wit helps to maintain a sense of humor about an otherwise crummy situation.  I hope many Congressional aides are on your distribution list.  PS – I hear mention of you on all sorts of data security webinars and conversations – kudos.',\n 'The big question I have not yet seen (or completely missed) is was there any *explicit* agreement on who would verify users?\\nCourt Ventures or Info Search, or both?',\n 'Its seems there may be no *clear* agreement at all, else one of the two would have notified the press likely.',\n 'I’m biased, but that would fit the nature of these companies, that usually don’t care too much about the data they use. After all, they don’t suffer if a breach occurs. Experian tops it all, with no regard to users at all. Even if they turn out to be innocent, their attitude is one that does not suggest any worry about how many people got their data stolen through their services …',\n 'Related to this there is also the technical side, in addition to the moral and legal side. Let’s say I’m a legitimate user of Court Ventures / Experian, and I access data from Info Search. What and how will I get logged?',\n 'Does Court Ventures / Experian log my attempt or Info Search, or both. And for the latter do they see me as me, of just as someone though Court Ventures / Experian.',\n 'I ask, as the original press on this topic seems to suggest the logging was poor on both sides.  Court Ventures / Experian only had partial, and Info Search none. Either it was never logged or already discarded.',\n 'Again this fits my bias, that no serious logging may have existed at all. But in this case I would be delighted if my bias is indeed that, and companies like this, do in fact keep proper logs most of the time, and this was the exception.',\n 'Again, I find it interesting that this is described as an Experian “breach”, when they weren’t hacked — they willingly sold access to this data to Ngo.',\n 'Their Terms of Service were breached, if I understand correctly.',\n 'Considering the power the credit agencies wield in peoples lives you’d think they would be a bit more careful about who they deal with, after all it’s not like ID theft is something new last week.',\n 'Also seem to do poor job of simple sanity checks on data in individuals files.  Checking mine several years ago with all 3 agencies so I do not remember who had the obvious error.  Technically I am a Jr., but rarely use except on most official of official docs. 1 of my reports had me crossed up with my father so according to the file I was working for the New Haven Railroad 12 years before I was born.  Would think that would be a simple catch on their part, but obviously not.',\n 'Bullcrap.  I know a victim.',\n '“While other industries stagger under the weight of recession, in cybercrime, business is apparently booming.',\n 'Yet in terms of economics, there’s something very wrong with this picture. Generally the demand for easy money outstrips supply. Is cybercrime an exception? If getting rich were as simple as downloading and running software, wouldn’t more people do it, and thus drive down returns?',\n 'We have examined cybercrime from an economics standpoint and found a story at odds with the conventional wisdom. A few criminals do well, but cybercrime is a relentless, low-profit struggle for the majority. ”  http://www.nytimes.com/2012/04/15/opinion/sunday/the-cybercrime-wave-that-wasnt.html?_r=2&amp;',\n 'Thomas Piketty’s economic data ‘came out of thin air’\\nhttp://www.theguardian.com/business/2014/may/24/thomas-picketty-economics-data-errors',\n 'Crime doesn’t pay~Enough…',\n 'Click image for my skimmer series.',\n 'A New York Times Bestseller! ',\n 'Badguy uses for your PC',\n 'Tools for a Safer PC ',\n 'Spammers Duke it Out',\n 'Your email account may be worth far more than you imagine.',\n 'eBanking Best Practices for Businesses',\n 'Innovations from the Underground',\n 'ID Protection Services Examined',\n 'The reasons for its decline',\n \"File 'em Before the Bad Guys Can \",\n 'A crash course in carding. ',\n 'Sign up, or Be Signed Up! ',\n 'Finding out is not so easy. ',\n '...For Online Safety. ',\n '\\r\\n\\t\\t© 2020 Krebs on Security. \\r\\n\\t\\t\\u2002Powered by WordPress. \\r\\n\\u2002Privacy Policy\\n']"
          },
          "metadata": {}
        }
      ]
    },
    {
      "metadata": {
        "trusted": true
      },
      "cell_type": "code",
      "source": "",
      "execution_count": null,
      "outputs": []
    },
    {
      "metadata": {},
      "cell_type": "markdown",
      "source": "Return the urls of every article on each page:\n* Requests.get()\n* Extract individual article hrefs from the <h2 class=\"post-title\"> tag\n* There are 188 pages on krebs to loop through"
    },
    {
      "metadata": {
        "trusted": true
      },
      "cell_type": "code",
      "source": "#Define url\n#krebs_url_2 = 'https://krebsonsecurity.com/page/1/'",
      "execution_count": null,
      "outputs": []
    },
    {
      "metadata": {
        "trusted": true
      },
      "cell_type": "code",
      "source": "#Create BeautifulSoup object called html_soup from url\n#response = requests.get(krebs_url_2)\n#html_soup = BeautifulSoup(response.text, 'html.parser')",
      "execution_count": null,
      "outputs": []
    },
    {
      "metadata": {
        "trusted": true
      },
      "cell_type": "code",
      "source": "#Extract the title and link of each article on the page\n#article_list = html_soup.find_all('h2', {'class':'post-title'})",
      "execution_count": null,
      "outputs": []
    },
    {
      "metadata": {
        "trusted": true
      },
      "cell_type": "code",
      "source": "#Create a list of links to all the articles on the page: href_list\n#href_list=[]\n#for article in article_list:\n    #href_list.append(article.find('a').get('href'))\n    \n#href_list",
      "execution_count": null,
      "outputs": []
    },
    {
      "metadata": {
        "trusted": true
      },
      "cell_type": "code",
      "source": "#Create a list of numbers with each number corresponding to a page of the website\npages =[]\nfor i in range(1,187,1):\n    pages.append(str(i))",
      "execution_count": 44,
      "outputs": []
    },
    {
      "metadata": {
        "trusted": true
      },
      "cell_type": "code",
      "source": "#Create a list of numbers with each number corresponding to a page of the website\n#test_pages =[]\n#for i in range(1,5):\n #   test_pages.append(str(i))",
      "execution_count": null,
      "outputs": []
    },
    {
      "metadata": {
        "trusted": true
      },
      "cell_type": "code",
      "source": "start_time = time.time()\nnum_requests = 0\nhref_list=[]\n\nfor page in pages:\n    \n    response = requests.get('https://krebsonsecurity.com/page/' + page)\n    \n    num_requests += 1\n    sleep(randint(2,6))\n    elapsed_time = time.time() - start_time\n    print('Request: {}; Frequency: {} requests/s'.format(num_requests, num_requests/elapsed_time))\n    clear_output(wait = True)\n    \n    if response.status_code != 200:\n        warn('Request: {}; Status code: {}'.format(requests, response.status_code))\n        \n    html_soup = BeautifulSoup(response.text, 'html.parser')\n    article_list = html_soup.find_all('h2', {'class':'post-title'})\n    \n    #Create a list of links to all the articles on the page: href_list\n    for article in article_list:\n        href_list.append(article.find('a').get('href'))\n    \n    href_list\n    ",
      "execution_count": 45,
      "outputs": [
        {
          "output_type": "stream",
          "text": "Request: 186; Frequency: 0.1742356597667361 requests/s\n",
          "name": "stdout"
        }
      ]
    },
    {
      "metadata": {
        "trusted": true
      },
      "cell_type": "code",
      "source": "with open('href.list', 'wb') as href_list_file:\n    pickle.dump(href_list, href_list_file)",
      "execution_count": 48,
      "outputs": []
    },
    {
      "metadata": {
        "trusted": true
      },
      "cell_type": "code",
      "source": "#list_length = len(href_list[0:10])\n#for i in range(list_length):\n #   article_url = href_list[i]\n  #  print(article_url)",
      "execution_count": null,
      "outputs": []
    },
    {
      "metadata": {
        "trusted": true
      },
      "cell_type": "code",
      "source": "start_time = time.time()\narticle_date_list = []\narticle_title_list = []\narticle_body_list = []\nnumber_of_requests = 0\n\nlist_length = len(href_list)\nfor i in range(list_length):\n    \n    article_url = href_list[i]\n    content = requests.get(article_url)\n    \n    number_of_requests += 1\n    sleep(randint(1,3))\n    elapsed_time = time.time() - start_time\n    print('Request: {}; Frequency: {} requests/s'.format(number_of_requests, number_of_requests/elapsed_time))\n    clear_output(wait=True)\n    \n    if content.status_code != 200:\n        warn('Request: {}; Status code: {}'.format(number_of_requests, content.status_code))\n    \n    soup = BeautifulSoup(content.text, 'html.parser')\n    \n    article_date_list.append(article_date(soup))\n    article_title_list.append(article_title(soup))\n    article_body_list.append(article_body(soup))\n\n    ",
      "execution_count": 49,
      "outputs": [
        {
          "output_type": "stream",
          "text": "Request: 1860; Frequency: 0.34533033120685197 requests/s\n",
          "name": "stdout"
        }
      ]
    },
    {
      "metadata": {
        "trusted": true
      },
      "cell_type": "code",
      "source": "#article_date_list\n#article_title_list\n#article_body_list",
      "execution_count": null,
      "outputs": []
    },
    {
      "metadata": {
        "trusted": true
      },
      "cell_type": "code",
      "source": "print(article_date_list[4], article_title_list[4], article_body_list[4])",
      "execution_count": 50,
      "outputs": [
        {
          "output_type": "stream",
          "text": "2020-04-07 00:00:00 Microsoft Buys Corp.com So Bad Guys Can’t —  Krebs on Security ['In February, KrebsOnSecurity told the story of a private citizen auctioning off the dangerous domain corp.com for the starting price of $1.7 million. Domain experts called corp.com dangerous because years of testing showed whoever wields it would have access to an unending stream of passwords, email and other sensitive data from hundreds of thousands of Microsoft Windows PCs at major companies around the globe. This week, Microsoft Corp. agreed to buy the domain in a bid to keep it out of the hands of those who might abuse its awesome power.', '', 'Wisconsin native Mike O’Connor, who bought corp.com 26 years ago but has done very little with it since, said he hoped Microsoft would buy it because hundreds of thousands of confused Windows PCs are constantly trying to share sensitive data with corp.com. Also, early versions of Windows actually encouraged the adoption of insecure settings that made it more likely Windows computers might try to share sensitive data with corp.com.', 'From February’s piece:', 'At issue is a problem known as “namespace collision,” a situation where domain names intended to be used exclusively on an internal company network end up overlapping with domains that can resolve normally on the open Internet.', 'Windows computers on an internal corporate network validate other things on that network using a Microsoft innovation called\\xa0Active Directory, which is the umbrella term for a broad range of identity-related services in Windows environments. A core part of the way these things find each other involves a Windows feature called “DNS name devolution,” which is a kind of network shorthand that makes it easier to find other computers or servers without having to specify a full, legitimate domain name for those resources.', 'For instance, if a company runs an internal network with the name internalnetwork.example.com, and an employee on that network wishes to access a shared drive called “drive1,” there’s no need to type “drive1.internalnetwork.example.com” into Windows Explorer; typing “\\\\\\\\drive1\\\\” alone will suffice, and Windows takes care of the rest.', 'But things can get far trickier with an internal Windows domain that does not map back to a second-level domain the organization actually owns and controls. And unfortunately, in early versions of Windows that supported Active Directory —\\xa0Windows 2000 Server, for example — the default or example Active Directory path was given as “corp,” and many companies apparently adopted this setting without modifying it to include a domain they controlled.', 'Compounding things further, some companies then went on to build (and/or assimilate) vast networks of networks on top of this erroneous setting.', 'Now, none of this was much of a security concern back in the day when it was impractical for employees to lug their bulky desktop computers and monitors outside of the corporate network. But what happens when an employee working at a company with an Active Directory network path called “corp” takes a company laptop to the local Starbucks?', 'Chances are good that at least some resources on the employee’s laptop will still try to access that internal “corp” domain. And because of the way DNS name devolution works on Windows, that company laptop online via the Starbucks wireless connection is likely to then seek those same resources at “corp.com.”', 'In practical terms, this means that whoever controls corp.com can passively intercept private communications from hundreds of thousands of computers that end up being taken outside of a corporate environment which uses this “corp” designation for its Active Directory domain.', 'The story went on to describe how years of testing — some of which was subsidized by grants from the U.S. Department of Homeland Security — showed hundreds of thousands of Windows computers were constantly trying to send this domain information it had no business receiving, including attempts to log in to internal corporate networks and access specific file shares on those networks.', 'O’Connor told me he was selling the domain after doing basically nothing with it for 26 years because he was getting on in years and didn’t want his kids to inherit this mess. When he put the domain up for sale, I asked if he’d agree to let me know if and when he sold it.', 'On Monday evening, he wrote to say that Microsoft had agreed to purchase it. O’Connor said he could\\xa0 not discuss the terms of the deal, nor could he offer further comment beyond acknowledging the sale of corp.com to Microsoft.', 'In a written statement, Microsoft said it acquired the domain to protect its customers.', '“To help in keeping systems protected we encourage customers to practice safe security habits when planning for internal domain and network names,” the statement reads. “We released a security advisory in June of 2009 and a security update that helps keep customers safe. In our ongoing commitment to customer security, we also acquired the Corp.com domain.”', 'Over the years, Microsoft has shipped\\xa0several\\xa0software updates\\xa0to help decrease the likelihood of namespace collisions that\\xa0could create a security problem\\xa0for companies that still rely on Active Directory domains that do not map to a domain they control.', 'However, experts say hardly any vulnerable organizations have deployed these fixes for two reasons. First, doing so requires the organization to take down its entire Active Directory network simultaneously for some period of time.', 'Second, according to Microsoft applying the patch(es) will likely break or at least slow down a number of applications that the affected organization relies upon for day-to-day operations. Faced with either or both of these scenarios, most affected companies probably decided the actual risk of not applying these updates was comparatively low.', 'It should be noted that while Microsoft’s purchase of corp.com will safeguard companies that built Active Directory infrastructures on top of “corp” or “corp.com,” any company that has tied their internal Active Directory network to a domain they do not control is opening itself to a similar potential security nightmare.', 'Further reading:', 'Mitigating the Risk of DNS Namespace Collisions\\xa0(PDF)', 'DEFCON 21 – DNS May Be Hazardous to your Health (Robert Stucke)', 'Mitigating the Risk of Name Collision-Based Man-in-the-Middle Attacks\\xa0(PDF)', '\\n\\n\\n ', \"Tags: Active Directory, corp.com, microsoft, Mike O'Connor\", '\\n\\r\\n\\t\\t\\t\\t\\t\\tThis entry was posted on Tuesday, April 7th, 2020 at 8:34 am\\t\\t\\t\\t\\t\\tand is filed under A Little Sunshine.\\r\\n\\t\\t\\t\\t\\t\\tYou can follow any comments to this entry through the RSS 2.0 feed.\\r\\n\\r\\n\\t\\t\\t\\t\\t\\t\\t\\t\\t\\t\\t\\t\\tYou can skip to the end and leave a comment. Pinging is currently not allowed.\\r\\n\\r\\n\\t\\t\\t\\t\\t\\t\\r\\n\\t\\t\\t\\t\\t\\n', 'An example of money well spent on one thing to protect us all — seems something of a common theme, just now.', '… well spend, to intercept those information instead of anyone else.', 'Agreed. in the last 7 years Microsoft has made tremendous steps customer service wise. It is night and day better than the 18004myxbox days. For such a huge company, it’s not that hard to get ahold of a customer service rep.\\nA lot of their recent actions in the gaming spheres have been consumer focused too.', 'I’m sure that is one “.com” that paid off large – hopefully he can now enjoy his retirement and his children will inherit wealth instead of a mess.', 'Um its 1.7 million… I doubt its enough to retire on let alone have a big inheritance.', 'That was the opening bid and not the final price.', 'Depends upon your needs; I get by just fine on the age pension alone…', 'Haha I’m sorry but your a fool that does not know how to save or spend money.  Nobody said you need to spend the 1.7 mil right away…  and if people can survive and live off of minimum wage, I am quite sure getting 1.7 mil would suffice.  For example let’s say this guy made 40k a year.  If he is used to that spending having 1m7 mil will last him about 15 years or so, even more.  If you retire at 65 and have guaranteed money until your 85… that sounds pretty awesome.  Dont forget he has social security and all other things, those dont disappear when you make a good sale.   I think your a financially off and have zero idea how to handle money', 'Also, if you invested it and got a 5% return, which should be quite easy on that much money, you could pay yourself a $85,000 a year salary and never even touch the 1.7 million.', 'how much would you consider enough to retire on?', 'I don’t always retire, but when I do, it’s always on other people’s money. ', '~ The Most Interest-Consuming Man In The World', 'Is that what we’re calling domain squatting now…. retirement planning?', 'In addition to the AD vulnerability, which is scary, it’s a domain ideal for address spoofing in phishing and such.  So, instead of bank.com, the bad guys use bank.corp.com.  That probably wouldn’t get past readers here, but it would get past a lot of people.', 'Bankcorp is actually a real bank, so that might fool a ton of people', 'Microsoft created the problem.', 'There’s nothing altruistic about them paying to mitigate something they should have fixed years ago.', 'Agreed', 'The sad part is that anyone anyone that builds there AD on their domain name and changes their domain name is in the same boat. And there still is no fix.\\nSo what then are you supposed to use as your namespace for AD?', 'Are you aware of any company that changes their domain name (as a result of an acquisition or rebrand) and actually abandons the old one?', 'I doubt that very much.', 'Sadly, some companies do abandon old domain names.  A company I worked for got acquired and the new company abandoned the domain after a year or two.  The abandoned named got purchased by someone hosting malvertisements so every DNS request for the old name now goes to a criminal site trying to convince you that you’re wanted by the FBI or that you need to install their special Flash update or something.', 'I blogged about it back in November when I finally managed to track down random page redirects to an old Windows configuration that was still using the abandoned domain name.', 'Oops.  Forgot the URL for my blog post.  😛', 'https://shaminospage.blogspot.com/2019/11/security-tip-watch-out-for-expired-dns.html', 'Sadly, some companies do abandon old domain names. A company I worked for got acquired and the new company abandoned the domain after a year or two. The abandoned named got purchased by someone hosting malvertisements so every DNS request for the old name now goes to a criminal site trying to convince you that you’re wanted by the FBI or that you need to install their special Flash update or something.', 'I blogged about it back in November when I finally managed to track down random page redirects to an old Windows configuration that was still using the abandoned domain name.', 'https://shaminospage.blogspot.com/2019/11/security-tip-watch-out-for-expired-dns.html', 'Well, The Onion won’t have to work at all to copy this article’s title.', 'We discussed this on the OpenSourceSecurity Podcast back in Feb 2020 https://www.opensourcesecuritypodcast.com/2020/02/episode-184-its-dns-its-always-dns.html TL;DR: this is the least painful outcome of these DNS shenanigans.', 'Given that Microsoft has a habit of letting even important domains expire, hopefully they have the sense to register corp.com for a decade or two.', 'In an ideal world they would contact any companies that are inadvertently sharing out information, but I don’t have a lot of trust that Microsoft will create that kind of cohesive, long-term plan. It’s more likely that they’ll simply have corp.com redirect to some other Microsoft site, which is good enough I suppose.', 'Wouldn’t it have been great to be smart enough to make up a lot of domain names that would end up being critical like that, and just sit on that gold mine until it paid off?', 'I got to admit though, it takes discipline to sit there and pay those yearly fees for that name(s) for 26 years. I hate to imagine what that bill comes to now! I was squatting on a name, and several “dots” for almost 17 years now, that only I would want, but I finally got tired of paying those ridiculous fees, and dropped them like a bag of rotten potatoes.', 'I certainly see nothing altruistic about Microsoft shelling out the shekels for this domain — it seems to me to be a “small price now versus much bigger price later.”', 'I’m just glad the crowd of Microsoft MBAs saw this as financially responsible on the front end.', 'If only MS would have locked down AD domain names to *.local back in the day.  Would have saved them some scratch 20 years later.', 'As a partial fix, what about Windows not resolving corp.com to anything outside an RFC 1918 address, or more than a few network hops away?  It wouldn’t solve all the problems, but would deal with a vast majority of them.', 'They did recommend that. And then they backflipped on that years later after it caused interop issues with apple’s service discovery protocol, and more. But the damage is already done, nobody is going to bother renaming their AD domain.', '“Microsoft innovation called Active Directory” lol, MSFT doesn’t “innovate “, they buy, steal and copy everything and call it their own.  They stole from Novell for AD.', 'You forgot about Banyan Vines, which Novell and Microsoft took their ideas from. https://en.wikipedia.org/wiki/Banyan_VINES', 'Wow, I have to reply to this.  I dont think MS stole much from Novell.  AD/MS will never compare to the managability, stability, and feature richness that Novell OES had.  After all these years, official MS support told me last month that VSS is not designed for backup/recovery of data files – only system files.  WTF ?  Novell had file versioning / recovery for as long as I can remember, and it always worked, and still works. (And I’ve been in this game 30 years).  Long live Novell.', 'Over 40 years of computer experience here, and a tad over 50 years if you count my school and university years 🙂', 'This is nonsense.', 'Active Directory is based on the X.500 Directory standard (the corresponding ISO standard is ISO/IEC 9594). ', 'My understanding is that Microsoft’s initial Active Directory implementation was based on an X.500 directory product licensed from a UK company called Vega (I worked alongside this company around the time Active Directory was introduced – current companies with this name seem to bear no relation to that company, so I presume it is now defunct).', 'The suggestion that Microsoft ‘stole’ anything is simply ludicrous.', 'People who say “simply ludicrous” too often tend to exhibit that.', '“Plus, his analysis only deals with copied code, not with the look and feel of the operating system. In 2004, Little Brown published a book by Harold Evans called They Made America: From the Steam Engine to the Search Engine: Two Centuries of Innovators which included Kildall’s claims that the API and look and feel of 86-DOS had been copied from CP/M. In 2005, Paterson tried to sue both Evans and Little Brown for defamation, but the case was ultimately dismissed as the judge found that Paterson had indeed copied CP/M’s API. Considering the recent decision that APIs aren’t subject to copyright, it doesn’t seem that DRI would have had much luck in court. But it’s hard to dispute the similarities between the operating systems.”', 'Microsoft bought (from Seattle Computer) the QDOS system that had copied (“stolen,” yes, though you can’t copyright an API) the API from CP/M.  So whether or not actual binary bitcode was 1:1 copied, yes, Microsoft has bits of stolen IP in their products all up and down the line whether or not anyone sues successfully over them; it’s indeterminant of that court outcome.    The original author did not sue and his limitations have long expired.  MS of course isn’t the only one, nor is this specifically related to AD.  ', 'But to say they haven’t stolen anything and the idea is “simply ludicrous” out of hand like that, well, it’s oversimplistic at best.', 'Does this mean that Microsoft will now receive “information it had no business receiving, including attempts to log in to internal corporate networks and access specific file shares on those networks.”', 'You’re talking about a company that with a flick of a switch could quietly ship an update that could do that and far worse. At some point, you have to give MS the benefit of the doubt that they’re not going to do anything nefarious with this domain other than make sure no one else can have it, because there are far easier ways for them to be evil if that’s what they wanted to do.', 'Bruce–I have to second you on this one. Microsoft seems to have put on a white hat lately.', 'I ran a non-Microsoft development team near Redmond for many years and I have dealt with them a lot. I’ve competed with them, sold products to them, and developed for them. At one time, we even had a source code license for Windows. ', 'Once, when we were in a deal with Big Blue, an IBMer who was visiting us tossed a rock into a Microsoft barbecue while we walking by one of their parking lots. And I darn near tossed a second one myself. That’s what I thought of MSFT back then.', 'They are not the company they were in the 90s and early 00s. They made their mistakes and they will continue to make them because 80% of reliable software has always been and always will be correcting defects that QA misses. I think Microsoft has gotten pretty good at owning up and fixing up lately. ', 'And they don’t even hate Linux anymore.', 'You’re right. It’s true from a technical point of view. But Microsoft can use more covert means, such as software update, to lure users to authorize, which are much better than this, and more difficult to be found.', 'How is shipping an update, that some non-zero number of security-conscious governments will audit, more passive than sucking up data that just comes in to ‘corp.com’?', 'There is no reason to trust Microsoft to deal with this safely.', 'They could also use it as a bargaining chip in the JEDI negotiations and offer to just send all the traffic straight to the NSA.  No one would know, and they wouldnt risk the reputational damage getting caught screwing with a Windows update.', 'Yes, it’s great that MS purchased this domain name, no question about it. I rather see them owning it, than a private entity.', 'Just don’t forget, that doing so did not change the domain name’s “awesome power”. Your AD still want s to reach out to the corp.com…', 'I think you have a proofread error there Brian – the modifier “Other” got omitted.', 'Bicycle repairman, our hero!', 'Subtle; I had to think about that one 🙂', 'Good on MS. I’ll still be annoyed every time their untested patch Tuesday updates cause more problems than the original issue being ‘corrected’ was, but I’ll be just that little bit more forgiving now that they’ve done the right thing with corp.com — taking it out of circulation.', 'Well done Microsoft well done Krebs for shining a spotlight on this critical issue.', 'Sorry to intrude but I am selling privilegeescalation.com , arpspoofing.com , threewayhandshake.com , socialengineeringtoolkit.com and other top 50 cyber security related domain names. If anyone is interested please let me know.', 'Hi Puneet, well it looks like you wasted your money, sadly. I have Puneetspoofing.com for sale if you want. I also have Puneetescalation, Puneethandshake and Puneethandshake.com', 'You think you are very punny guy! Well the true punmeister is me, Puneet. I don’t need those names, thanks, but I appreciate your humor. I also appreciate anyone that wants to but arpspoofing, dnsspoofing, whitehathacker, krebsoneverything.com and all the other domain names that I own and am willing to SELL.', 'This above person by the name of mine is a prankster. I am real Puneet Agarwal who posted those domains', 'I am not that Puneet Agarwal.', 'Mr Wais and fake Puneet Agarwal who started his commitment with ” you think you are” etc etc.\\nThe domain names which u hv mentioned are of zero value. Throw them.\\nMine are highly searched ones.\\nAlso I can also understand your frustration and envy with domainers. As u r not able to own them.\\nThe ones like u would have said same thing to Mike as well in 90s when he booked corp.com', 'Mr Wais all those domains by my name are not worth. Those keywords are not searched on internet. The keywords which I have mentioned are searched ones sir', 'This reminded me of `WPAD` namespace for DNS and DHCP:', 'https://en.wikipedia.org/wiki/Web_Proxy_Auto-Discovery_Protocol', 'I remember logging all requests to wpad.ir, there were many from Brazil for some reason.', 'I suggest these things be fixed if not maybe we will look like a star indeed. If any bother mine or me not the 26th in the Sky you see. If not then then when the ones you love the most will see be. Fool you not God see I am not he only maybe shadow of he. Did not think the world an accident? Why then repeat patterns they be in nature you see. Accidents like that can’t be only from a divine maybe. Undo this what has be done as much as can or Gods will WILL BE DONE…', 'Why not destroy the program so no one could have it??? The bad guys could possibly be Microsoft as well. How do we know they’re nor?', 'Brian, thank you for doing such an eloquent job explaining this complex issue.  After 6 long years, this saga has finally come to a successful end.  The Internet is a safer place today because of the quiet work of a number of dedicated folks behind the scenes.  ', 'So many things worked “right” here to come to this successful end.  My company (JAS) first identified this issue in 2014, and undertook Responsible Disclosure to the extreme as MSFT initially worked through issues related to this hard problem.\\nhttps://msrc-blog.microsoft.com/2015/02/10/ms15-011-ms15-014-hardening-group-policy/', 'The owner rejected numerous offers over the years in recognition that corp.com was “special.”', 'Microsoft took the time and dedicated the technical resources to gain an understanding of the underlying technical issues and solve the root causes.', 'I’m honored to be a part of a story with a happy ending and a safer Internet.', 'I wonder what Microsoft spent on this domain… $5 million? $8 million?', 'It’s a small price for Microsquash to pay to resolve a long-standing problem that they created. Of course, none of the money addresses the problem of what they may do with the data that these unpatched systems try to send to the Corp[.]com domain. ', 'That said, the funniest part of this article is where Krebs calls Novell Directory Services a Microsoft innovation! *Snickers*', 'https://en.wikipedia.org/wiki/Microsoft_vs._MikeRoweSoft', '“Microsoft v. MikeRoweSoft was a legal dispute between Microsoft and a Canadian Belmont High School student named Mike Rowe over the domain name “MikeRoweSoft.com”. Microsoft argued that their trademark had been infringed because of the phonetic resemblance between “Microsoft” and “MikeRoweSoft”.', 'The case received international press attention following Microsoft’s perceived heavy-handed approach to a 12th grade student’s part-time web design business and the subsequent support that Rowe received from the online community. A settlement was eventually reached, with Rowe granting ownership of the domain to Microsoft in exchange for an Xbox and additional compensation.” […]', 'https://en.wikipedia.org/wiki/Microsoft_Corp._v._Lindows.com,_Inc.', '“Microsoft v. Lindows.com, Inc. was a court case brought by Microsoft against Lindows, Inc in December 2001, claiming that the name “Lindows” was a violation of its trademark “Windows.”', 'After two and a half years of court battles, Microsoft paid US$20 million for the Lindows trademark, and Lindows Inc. became Linspire Inc.”', 'please send more details to me by email, thanks', 'I don’t get the issue. Change your hosts file to point to the local machine. i.e. 127.0.0.1 corp.com, 127.0.0.1 corp.org, corp.net… ', 'Shouldn’t that resolve data leakage, or am I just being dense?', 'Name (required)\\n', 'Email (required)\\n', 'Website\\n', 'Comment', '', '', 'Click image for my skimmer series.', 'A New York Times Bestseller! ', 'Badguy uses for your PC', 'Tools for a Safer PC ', 'Spammers Duke it Out', 'Your email account may be worth far more than you imagine.', 'eBanking Best Practices for Businesses', 'Innovations from the Underground', 'ID Protection Services Examined', 'The reasons for its decline', \"File 'em Before the Bad Guys Can \", 'A crash course in carding. ', 'Sign up, or Be Signed Up! ', 'Finding out is not so easy. ', '...For Online Safety. ', '\\r\\n\\t\\t© 2020 Krebs on Security. \\r\\n\\t\\t\\u2002Powered by WordPress. \\r\\n\\u2002Privacy Policy\\n']\n",
          "name": "stdout"
        }
      ]
    },
    {
      "metadata": {
        "trusted": true
      },
      "cell_type": "code",
      "source": "df = pd.DataFrame({\n    'Date': article_date_list,\n    'Title': article_title_list,\n    'Body': article_body_list\n})",
      "execution_count": 52,
      "outputs": []
    },
    {
      "metadata": {
        "trusted": true
      },
      "cell_type": "code",
      "source": "df.head()",
      "execution_count": 53,
      "outputs": [
        {
          "output_type": "execute_result",
          "execution_count": 53,
          "data": {
            "text/html": "<div>\n<style scoped>\n    .dataframe tbody tr th:only-of-type {\n        vertical-align: middle;\n    }\n\n    .dataframe tbody tr th {\n        vertical-align: top;\n    }\n\n    .dataframe thead th {\n        text-align: right;\n    }\n</style>\n<table border=\"1\" class=\"dataframe\">\n  <thead>\n    <tr style=\"text-align: right;\">\n      <th></th>\n      <th>Date</th>\n      <th>Title</th>\n      <th>Body</th>\n    </tr>\n  </thead>\n  <tbody>\n    <tr>\n      <th>0</th>\n      <td>2020-04-16</td>\n      <td>Sipping from the Coronavirus Domain Firehose —...</td>\n      <td>[Security experts are poring over thousands of...</td>\n    </tr>\n    <tr>\n      <th>1</th>\n      <td>2020-04-15</td>\n      <td>COVID-19 Has United Cybersecurity Experts, But...</td>\n      <td>[The Coronavirus has prompted thousands of inf...</td>\n    </tr>\n    <tr>\n      <th>2</th>\n      <td>2020-04-14</td>\n      <td>Microsoft Patch Tuesday, April 2020 Edition — ...</td>\n      <td>[Microsoft today released updates to fix 113 s...</td>\n    </tr>\n    <tr>\n      <th>3</th>\n      <td>2020-04-10</td>\n      <td>New IRS Site Could Make it Easy for Thieves to...</td>\n      <td>[The U.S. federal government is now in the pro...</td>\n    </tr>\n    <tr>\n      <th>4</th>\n      <td>2020-04-07</td>\n      <td>Microsoft Buys Corp.com So Bad Guys Can’t —  K...</td>\n      <td>[In February, KrebsOnSecurity told the story o...</td>\n    </tr>\n  </tbody>\n</table>\n</div>",
            "text/plain": "        Date                                              Title  \\\n0 2020-04-16  Sipping from the Coronavirus Domain Firehose —...   \n1 2020-04-15  COVID-19 Has United Cybersecurity Experts, But...   \n2 2020-04-14  Microsoft Patch Tuesday, April 2020 Edition — ...   \n3 2020-04-10  New IRS Site Could Make it Easy for Thieves to...   \n4 2020-04-07  Microsoft Buys Corp.com So Bad Guys Can’t —  K...   \n\n                                                Body  \n0  [Security experts are poring over thousands of...  \n1  [The Coronavirus has prompted thousands of inf...  \n2  [Microsoft today released updates to fix 113 s...  \n3  [The U.S. federal government is now in the pro...  \n4  [In February, KrebsOnSecurity told the story o...  "
          },
          "metadata": {}
        }
      ]
    },
    {
      "metadata": {
        "trusted": true
      },
      "cell_type": "code",
      "source": "pickle.dump(df,open('krebs_dataset.pickle', 'wb'))",
      "execution_count": 54,
      "outputs": []
    },
    {
      "metadata": {
        "trusted": true
      },
      "cell_type": "code",
      "source": "with open('df', 'wb') as krebs_dataset:\n    pickle.dump(df, krebs_dataset)",
      "execution_count": 55,
      "outputs": []
    },
    {
      "metadata": {
        "trusted": true
      },
      "cell_type": "code",
      "source": "df.Title",
      "execution_count": 56,
      "outputs": [
        {
          "output_type": "execute_result",
          "execution_count": 56,
          "data": {
            "text/plain": "0       Sipping from the Coronavirus Domain Firehose —...\n1       COVID-19 Has United Cybersecurity Experts, But...\n2       Microsoft Patch Tuesday, April 2020 Edition — ...\n3       New IRS Site Could Make it Easy for Thieves to...\n4       Microsoft Buys Corp.com So Bad Guys Can’t —  K...\n5       ‘War Dialing’ Tool Exposes Zoom’s Password Pro...\n6       Phish of GoDaddy Employee Jeopardized Escrow.c...\n7       Annual Protest to ‘Fight Krebs’ Raises €150K+ ...\n8       Russians Shut Down Huge Card Fraud Ring —  Kre...\n9       US Government Sites Give Bad Security Advice —...\n10      Who’s Behind the ‘Web Listings’ Mail Scam? —  ...\n11      Security Breach Disrupts Fintech Firm Finastra...\n12      Zyxel Flaw Powers New Mirai IoT Botnet Strain ...\n13      Coronavirus Widens the Money Mule Pool —  Kreb...\n14      The Web’s Bot Containment Unit Needs Your Help...\n15      Live Coronavirus Map Used to Spread Malware — ...\n16      Crafty Web Skimming Domain Spoofs “https” —  K...\n17      Microsoft Patch Tuesday, March 2020 Edition — ...\n18      FBI Arrests Alleged Owner of Deer.io, a Top Br...\n19      U.S. Govt. Makes it Harder to Get .Gov Domains...\n20      The Case for Limiting Your Browser Extensions ...\n21      French Firms Rocked by Kasbah Hacker? —  Krebs...\n22      FCC Proposes to Fine Wireless Carriers $200M f...\n23      Zyxel 0day Affects its Firewall Products, Too ...\n24      Zyxel Fixes 0day in Network Storage Devices — ...\n25      Hackers Were Inside Citrix for Five Months —  ...\n26      Encoding Stolen Credit Card Data on Barcodes —...\n27      Pay Up, Or We’ll Make Google Ban Your Ads —  K...\n28      A Light at the End of Liberty Reserve’s Demise...\n29      Microsoft Patch Tuesday, February 2020 Edition...\n                              ...                        \n1830    Zeus Attack Spoofs NSA, Targets .gov and .mil ...\n1831    Hackers Try to Steal $150,000 from United Way ...\n1832        Another Way to Ditch IE6 —  Krebs on Security\n1833           ATM Skimmers, Part II —  Krebs on Security\n1834           A Tale of Two Victims —  Krebs on Security\n1835    Simmering Over a ‘Cyber Cold War’ —  Krebs on ...\n1836    Dear Snowflake: Happy ‘Data Privacy Day’ —  Kr...\n1837    The Rise of Point-and-Click Botnets —  Krebs o...\n1838    Texas Bank Sues Customer Hit by $800,000 Cyber...\n1839    A Peek Inside the ‘Eleonore’ Browser Exploit K...\n1840    Adobe Ships Critical Shockwave Update —  Krebs...\n1841    Cyber Crooks Cooked the Books at Fla. Library ...\n1842    The Democratization of Espionage —  Krebs on S...\n1843    Microsoft Issues Emergency Fix for IE Flaw —  ...\n1844    Patch it or Scratch it: RealPlayer —  Krebs on...\n1845    New Clues Draw Stronger Chinese Ties to ‘Auror...\n1846    Top 10 Ways to Get Fired as a Money Mule —  Kr...\n1847    Hundreds of Network Solutions Sites Hacked —  ...\n1848    Security Updates for Mac OS X Available —  Kre...\n1849    Revisiting the Internet Explorer Security Bug ...\n1850     What Keeps You Up At Night? —  Krebs on Security\n1851    Tough Talk from Those Who Hide —  Krebs on Sec...\n1852    Exploit in the Wild for New Internet Explorer ...\n1853    Would You Have Spotted the Fraud? —  Krebs on ...\n1854    McAfee: Internet Explorer 0day Fueled Attacks ...\n1855    The Wire: Google Security Edition —  Krebs on ...\n1856    FBI: Beware Haitian Quake Relief Scams —  Kreb...\n1857    Money Mules Helped to Rob W. Va. Bank —  Krebs...\n1858    Microsoft, Adobe Issue Security Updates —  Kre...\n1859    Google Hacked, Says it Will Stop Censoring Chi...\nName: Title, Length: 1860, dtype: object"
          },
          "metadata": {}
        }
      ]
    },
    {
      "metadata": {
        "trusted": true
      },
      "cell_type": "code",
      "source": "",
      "execution_count": null,
      "outputs": []
    }
  ],
  "metadata": {
    "kernelspec": {
      "name": "python36",
      "display_name": "Python 3.6",
      "language": "python"
    },
    "language_info": {
      "mimetype": "text/x-python",
      "nbconvert_exporter": "python",
      "name": "python",
      "pygments_lexer": "ipython3",
      "version": "3.6.6",
      "file_extension": ".py",
      "codemirror_mode": {
        "version": 3,
        "name": "ipython"
      }
    }
  },
  "nbformat": 4,
  "nbformat_minor": 2
}