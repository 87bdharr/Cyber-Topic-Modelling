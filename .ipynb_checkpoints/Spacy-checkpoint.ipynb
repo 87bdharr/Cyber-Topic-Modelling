{
  "cells": [
    {
      "metadata": {
        "trusted": true
      },
      "cell_type": "code",
      "source": "#!pip install spacy\n!python3 -m spacy download en_core_web_md\nimport spacy",
      "execution_count": 26,
      "outputs": [
        {
          "output_type": "stream",
          "text": "Collecting en_core_web_md==2.2.5\n\u001b[?25l  Downloading https://github.com/explosion/spacy-models/releases/download/en_core_web_md-2.2.5/en_core_web_md-2.2.5.tar.gz (96.4MB)\n\u001b[K     |████████████████████████████████| 96.4MB 4.9MB/s eta 0:00:01     |██████████████▋                 | 43.9MB 3.0MB/s eta 0:00:18��███████████████▊  | 89.6MB 2.9MB/s eta 0:00:03��██████████████████████████▏ | 91.0MB 2.9MB/s eta 0:00:02\n\u001b[?25hRequirement already satisfied: spacy>=2.2.2 in /home/nbuser/anaconda3_501/lib/python3.6/site-packages (from en_core_web_md==2.2.5) (2.2.4)\nRequirement already satisfied: cymem<2.1.0,>=2.0.2 in /home/nbuser/anaconda3_501/lib/python3.6/site-packages (from spacy>=2.2.2->en_core_web_md==2.2.5) (2.0.3)\nRequirement already satisfied: murmurhash<1.1.0,>=0.28.0 in /home/nbuser/anaconda3_501/lib/python3.6/site-packages (from spacy>=2.2.2->en_core_web_md==2.2.5) (1.0.2)\nRequirement already satisfied: blis<0.5.0,>=0.4.0 in /home/nbuser/anaconda3_501/lib/python3.6/site-packages (from spacy>=2.2.2->en_core_web_md==2.2.5) (0.4.1)\nRequirement already satisfied: thinc==7.4.0 in /home/nbuser/anaconda3_501/lib/python3.6/site-packages (from spacy>=2.2.2->en_core_web_md==2.2.5) (7.4.0)\nRequirement already satisfied: numpy>=1.15.0 in /home/nbuser/anaconda3_501/lib/python3.6/site-packages (from spacy>=2.2.2->en_core_web_md==2.2.5) (1.16.2)\nRequirement already satisfied: requests<3.0.0,>=2.13.0 in /home/nbuser/anaconda3_501/lib/python3.6/site-packages (from spacy>=2.2.2->en_core_web_md==2.2.5) (2.22.0)\nRequirement already satisfied: wasabi<1.1.0,>=0.4.0 in /home/nbuser/anaconda3_501/lib/python3.6/site-packages (from spacy>=2.2.2->en_core_web_md==2.2.5) (0.6.0)\nRequirement already satisfied: plac<1.2.0,>=0.9.6 in /home/nbuser/anaconda3_501/lib/python3.6/site-packages (from spacy>=2.2.2->en_core_web_md==2.2.5) (1.1.3)\nRequirement already satisfied: tqdm<5.0.0,>=4.38.0 in /home/nbuser/anaconda3_501/lib/python3.6/site-packages (from spacy>=2.2.2->en_core_web_md==2.2.5) (4.46.0)\nRequirement already satisfied: setuptools in /home/nbuser/anaconda3_501/lib/python3.6/site-packages (from spacy>=2.2.2->en_core_web_md==2.2.5) (41.6.0)\nRequirement already satisfied: srsly<1.1.0,>=1.0.2 in /home/nbuser/anaconda3_501/lib/python3.6/site-packages (from spacy>=2.2.2->en_core_web_md==2.2.5) (1.0.2)\nRequirement already satisfied: catalogue<1.1.0,>=0.0.7 in /home/nbuser/anaconda3_501/lib/python3.6/site-packages (from spacy>=2.2.2->en_core_web_md==2.2.5) (1.0.0)\nRequirement already satisfied: preshed<3.1.0,>=3.0.2 in /home/nbuser/anaconda3_501/lib/python3.6/site-packages (from spacy>=2.2.2->en_core_web_md==2.2.5) (3.0.2)\nRequirement already satisfied: urllib3!=1.25.0,!=1.25.1,<1.26,>=1.21.1 in /home/nbuser/anaconda3_501/lib/python3.6/site-packages (from requests<3.0.0,>=2.13.0->spacy>=2.2.2->en_core_web_md==2.2.5) (1.23)\nRequirement already satisfied: idna<2.9,>=2.5 in /home/nbuser/anaconda3_501/lib/python3.6/site-packages (from requests<3.0.0,>=2.13.0->spacy>=2.2.2->en_core_web_md==2.2.5) (2.7)\nRequirement already satisfied: certifi>=2017.4.17 in /home/nbuser/anaconda3_501/lib/python3.6/site-packages (from requests<3.0.0,>=2.13.0->spacy>=2.2.2->en_core_web_md==2.2.5) (2018.10.15)\nRequirement already satisfied: chardet<3.1.0,>=3.0.2 in /home/nbuser/anaconda3_501/lib/python3.6/site-packages (from requests<3.0.0,>=2.13.0->spacy>=2.2.2->en_core_web_md==2.2.5) (3.0.4)\nRequirement already satisfied: importlib-metadata>=0.20; python_version < \"3.8\" in /home/nbuser/anaconda3_501/lib/python3.6/site-packages (from catalogue<1.1.0,>=0.0.7->spacy>=2.2.2->en_core_web_md==2.2.5) (1.6.0)\nRequirement already satisfied: zipp>=0.5 in /home/nbuser/anaconda3_501/lib/python3.6/site-packages (from importlib-metadata>=0.20; python_version < \"3.8\"->catalogue<1.1.0,>=0.0.7->spacy>=2.2.2->en_core_web_md==2.2.5) (3.1.0)\nBuilding wheels for collected packages: en-core-web-md\n  Building wheel for en-core-web-md (setup.py) ... \u001b[?25ldone\n\u001b[?25h  Created wheel for en-core-web-md: filename=en_core_web_md-2.2.5-cp36-none-any.whl size=98052140 sha256=0d43c287f032547bd232bda9f218067dc8beae79d10cd935a3c6eb1e9b2fcfaa\n  Stored in directory: /tmp/pip-ephem-wheel-cache-kah7ocz4/wheels/df/94/ad/f5cf59224cea6b5686ac4fd1ad19c8a07bc026e13c36502d81\nSuccessfully built en-core-web-md\nInstalling collected packages: en-core-web-md\nSuccessfully installed en-core-web-md-2.2.5\n\u001b[33mWARNING: You are using pip version 19.3.1; however, version 20.1 is available.\nYou should consider upgrading via the 'pip install --upgrade pip' command.\u001b[0m\n\u001b[38;5;2m✔ Download and installation successful\u001b[0m\nYou can now load the model via spacy.load('en_core_web_md')\n",
          "name": "stdout"
        }
      ]
    },
    {
      "metadata": {
        "trusted": true
      },
      "cell_type": "code",
      "source": "nlp = spacy.load('en_core_web_md')",
      "execution_count": 27,
      "outputs": [
        {
          "output_type": "error",
          "ename": "OSError",
          "evalue": "[E050] Can't find model 'en_core_web_md'. It doesn't seem to be a shortcut link, a Python package or a valid path to a data directory.",
          "traceback": [
            "\u001b[0;31m---------------------------------------------------------------------------\u001b[0m",
            "\u001b[0;31mOSError\u001b[0m                                   Traceback (most recent call last)",
            "\u001b[0;32m<ipython-input-27-614d6de0ab0f>\u001b[0m in \u001b[0;36m<module>\u001b[0;34m\u001b[0m\n\u001b[0;32m----> 1\u001b[0;31m \u001b[0mnlp\u001b[0m \u001b[0;34m=\u001b[0m \u001b[0mspacy\u001b[0m\u001b[0;34m.\u001b[0m\u001b[0mload\u001b[0m\u001b[0;34m(\u001b[0m\u001b[0;34m'en_core_web_md'\u001b[0m\u001b[0;34m)\u001b[0m\u001b[0;34m\u001b[0m\u001b[0m\n\u001b[0m",
            "\u001b[0;32m~/anaconda3_501/lib/python3.6/site-packages/spacy/__init__.py\u001b[0m in \u001b[0;36mload\u001b[0;34m(name, **overrides)\u001b[0m\n\u001b[1;32m     28\u001b[0m     \u001b[0;32mif\u001b[0m \u001b[0mdepr_path\u001b[0m \u001b[0;32mnot\u001b[0m \u001b[0;32min\u001b[0m \u001b[0;34m(\u001b[0m\u001b[0;32mTrue\u001b[0m\u001b[0;34m,\u001b[0m \u001b[0;32mFalse\u001b[0m\u001b[0;34m,\u001b[0m \u001b[0;32mNone\u001b[0m\u001b[0;34m)\u001b[0m\u001b[0;34m:\u001b[0m\u001b[0;34m\u001b[0m\u001b[0m\n\u001b[1;32m     29\u001b[0m         \u001b[0mdeprecation_warning\u001b[0m\u001b[0;34m(\u001b[0m\u001b[0mWarnings\u001b[0m\u001b[0;34m.\u001b[0m\u001b[0mW001\u001b[0m\u001b[0;34m.\u001b[0m\u001b[0mformat\u001b[0m\u001b[0;34m(\u001b[0m\u001b[0mpath\u001b[0m\u001b[0;34m=\u001b[0m\u001b[0mdepr_path\u001b[0m\u001b[0;34m)\u001b[0m\u001b[0;34m)\u001b[0m\u001b[0;34m\u001b[0m\u001b[0m\n\u001b[0;32m---> 30\u001b[0;31m     \u001b[0;32mreturn\u001b[0m \u001b[0mutil\u001b[0m\u001b[0;34m.\u001b[0m\u001b[0mload_model\u001b[0m\u001b[0;34m(\u001b[0m\u001b[0mname\u001b[0m\u001b[0;34m,\u001b[0m \u001b[0;34m**\u001b[0m\u001b[0moverrides\u001b[0m\u001b[0;34m)\u001b[0m\u001b[0;34m\u001b[0m\u001b[0m\n\u001b[0m\u001b[1;32m     31\u001b[0m \u001b[0;34m\u001b[0m\u001b[0m\n\u001b[1;32m     32\u001b[0m \u001b[0;34m\u001b[0m\u001b[0m\n",
            "\u001b[0;32m~/anaconda3_501/lib/python3.6/site-packages/spacy/util.py\u001b[0m in \u001b[0;36mload_model\u001b[0;34m(name, **overrides)\u001b[0m\n\u001b[1;32m    167\u001b[0m     \u001b[0;32melif\u001b[0m \u001b[0mhasattr\u001b[0m\u001b[0;34m(\u001b[0m\u001b[0mname\u001b[0m\u001b[0;34m,\u001b[0m \u001b[0;34m\"exists\"\u001b[0m\u001b[0;34m)\u001b[0m\u001b[0;34m:\u001b[0m  \u001b[0;31m# Path or Path-like to model data\u001b[0m\u001b[0;34m\u001b[0m\u001b[0m\n\u001b[1;32m    168\u001b[0m         \u001b[0;32mreturn\u001b[0m \u001b[0mload_model_from_path\u001b[0m\u001b[0;34m(\u001b[0m\u001b[0mname\u001b[0m\u001b[0;34m,\u001b[0m \u001b[0;34m**\u001b[0m\u001b[0moverrides\u001b[0m\u001b[0;34m)\u001b[0m\u001b[0;34m\u001b[0m\u001b[0m\n\u001b[0;32m--> 169\u001b[0;31m     \u001b[0;32mraise\u001b[0m \u001b[0mIOError\u001b[0m\u001b[0;34m(\u001b[0m\u001b[0mErrors\u001b[0m\u001b[0;34m.\u001b[0m\u001b[0mE050\u001b[0m\u001b[0;34m.\u001b[0m\u001b[0mformat\u001b[0m\u001b[0;34m(\u001b[0m\u001b[0mname\u001b[0m\u001b[0;34m=\u001b[0m\u001b[0mname\u001b[0m\u001b[0;34m)\u001b[0m\u001b[0;34m)\u001b[0m\u001b[0;34m\u001b[0m\u001b[0m\n\u001b[0m\u001b[1;32m    170\u001b[0m \u001b[0;34m\u001b[0m\u001b[0m\n\u001b[1;32m    171\u001b[0m \u001b[0;34m\u001b[0m\u001b[0m\n",
            "\u001b[0;31mOSError\u001b[0m: [E050] Can't find model 'en_core_web_md'. It doesn't seem to be a shortcut link, a Python package or a valid path to a data directory."
          ]
        }
      ]
    },
    {
      "metadata": {
        "trusted": true
      },
      "cell_type": "code",
      "source": "doc = nlp(\"Bill Gates created Microsoft, but unfortunately he doesn't live in the U.K!\")",
      "execution_count": 20,
      "outputs": []
    },
    {
      "metadata": {
        "trusted": true
      },
      "cell_type": "code",
      "source": "for token in tokens:\n    print(token.text, token.has_vector, token.vector_norm, token.is_oov)",
      "execution_count": 25,
      "outputs": [
        {
          "output_type": "stream",
          "text": "Bill Gates PERSON\nMicrosoft ORG\nU.K ORG\n",
          "name": "stdout"
        }
      ]
    },
    {
      "metadata": {
        "trusted": true
      },
      "cell_type": "code",
      "source": "",
      "execution_count": null,
      "outputs": []
    }
  ],
  "metadata": {
    "kernelspec": {
      "name": "python36",
      "display_name": "Python 3.6",
      "language": "python"
    },
    "language_info": {
      "mimetype": "text/x-python",
      "nbconvert_exporter": "python",
      "name": "python",
      "pygments_lexer": "ipython3",
      "version": "3.6.6",
      "file_extension": ".py",
      "codemirror_mode": {
        "version": 3,
        "name": "ipython"
      }
    }
  },
  "nbformat": 4,
  "nbformat_minor": 1
}